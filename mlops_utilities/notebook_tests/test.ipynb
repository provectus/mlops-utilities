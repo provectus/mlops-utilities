{
 "cells": [
  {
   "cell_type": "code",
   "execution_count": 1,
   "outputs": [],
   "source": [
    "from sagemaker.workflow.steps import ProcessingStep\n",
    "from sagemaker.workflow.pipeline import Pipeline\n",
    "from sagemaker.processing import ProcessingInput, ProcessingOutput\n",
    "from sagemaker.processing import FrameworkProcessor\n",
    "from sagemaker.sklearn import SKLearn\n",
    "from sagemaker import Session\n",
    "\n",
    "import os"
   ],
   "metadata": {
    "collapsed": false,
    "pycharm": {
     "name": "#%%\n"
    }
   }
  },
  {
   "cell_type": "code",
   "execution_count": 37,
   "outputs": [],
   "source": [
    "PROCESSING_CONTAINER_DIR = \"/opt/ml/processing\"\n",
    "PREPROCESSING_COMPONENT_SOURCE_DIR = \"/Users/knikitiuk/workspace/mlops-utilities/mlops_utilities/processing_code\""
   ],
   "metadata": {
    "collapsed": false,
    "pycharm": {
     "name": "#%%\n"
    }
   }
  },
  {
   "cell_type": "code",
   "execution_count": 38,
   "outputs": [],
   "source": [
    "def create_processor(sagemaker_session) -> FrameworkProcessor:\n",
    "    return FrameworkProcessor(\n",
    "        estimator_cls=SKLearn,\n",
    "        framework_version=\"0.23-1\",\n",
    "        role=\"arn:aws:iam::311638508164:role/AmazonSageMaker-ExecutionRole\",\n",
    "        instance_count=1,\n",
    "        instance_type=\"ml.t3.medium\",\n",
    "        sagemaker_session=sagemaker_session,\n",
    "    )"
   ],
   "metadata": {
    "collapsed": false,
    "pycharm": {
     "name": "#%%\n"
    }
   }
  },
  {
   "cell_type": "code",
   "execution_count": 39,
   "outputs": [],
   "source": [
    "\n",
    "sm_session = Session(default_bucket='kris-mlops-utilities-test')\n",
    "\n",
    "notebook_processing = ProcessingStep(\n",
    "        \"NotebookProcessing\",\n",
    "        processor=create_processor(sm_session),\n",
    "        inputs=[\n",
    "            ProcessingInput(\n",
    "                input_name=\"code\",\n",
    "                source=PREPROCESSING_COMPONENT_SOURCE_DIR,\n",
    "                destination=os.path.join(PROCESSING_CONTAINER_DIR, \"code\"),\n",
    "            ),\n",
    "        ],\n",
    "        outputs=[\n",
    "            ProcessingOutput(\n",
    "                output_name=\"output-data\",\n",
    "                source=os.path.join(PROCESSING_CONTAINER_DIR, \"output-data\"),\n",
    "            )\n",
    "        ],\n",
    "        code=os.path.join(PREPROCESSING_COMPONENT_SOURCE_DIR, \"entrypoint.sh\")\n",
    "    )"
   ],
   "metadata": {
    "collapsed": false,
    "pycharm": {
     "name": "#%%\n"
    }
   }
  },
  {
   "cell_type": "code",
   "execution_count": 40,
   "outputs": [],
   "source": [
    "\n",
    "pipeline = Pipeline(\n",
    "    name='processing-notebook-pipeline',\n",
    "    parameters=[],\n",
    "    steps=[\n",
    "        notebook_processing\n",
    "    ],\n",
    "    sagemaker_session=sm_session,\n",
    ")\n"
   ],
   "metadata": {
    "collapsed": false,
    "pycharm": {
     "name": "#%%\n"
    }
   }
  },
  {
   "cell_type": "code",
   "execution_count": 41,
   "outputs": [
    {
     "data": {
      "text/plain": "{'PipelineArn': 'arn:aws:sagemaker:us-east-1:311638508164:pipeline/processing-notebook-pipeline',\n 'ResponseMetadata': {'RequestId': '9074f41b-71fa-419c-b420-06c811db7a48',\n  'HTTPStatusCode': 200,\n  'HTTPHeaders': {'x-amzn-requestid': '9074f41b-71fa-419c-b420-06c811db7a48',\n   'content-type': 'application/x-amz-json-1.1',\n   'content-length': '96',\n   'date': 'Fri, 10 Feb 2023 13:23:20 GMT'},\n  'RetryAttempts': 0}}"
     },
     "execution_count": 41,
     "metadata": {},
     "output_type": "execute_result"
    }
   ],
   "source": [
    "pipeline.upsert(role_arn='arn:aws:iam::311638508164:role/AmazonSageMaker-ExecutionRole')"
   ],
   "metadata": {
    "collapsed": false,
    "pycharm": {
     "name": "#%%\n"
    }
   }
  },
  {
   "cell_type": "code",
   "execution_count": 3,
   "outputs": [
    {
     "data": {
      "text/plain": "{'PipelineExecutionArn': 'arn:aws:sagemaker:us-east-1:311638508164:pipeline/test-upsert/execution/wuiix8q6ji5x',\n 'ResponseMetadata': {'RequestId': 'ed7701b7-4c3a-4c75-a742-08bd7e0c2d68',\n  'HTTPStatusCode': 200,\n  'HTTPHeaders': {'x-amzn-requestid': 'ed7701b7-4c3a-4c75-a742-08bd7e0c2d68',\n   'content-type': 'application/x-amz-json-1.1',\n   'content-length': '111',\n   'date': 'Mon, 13 Feb 2023 12:32:49 GMT'},\n  'RetryAttempts': 0}}"
     },
     "execution_count": 3,
     "metadata": {},
     "output_type": "execute_result"
    }
   ],
   "source": [
    "from actions import run_pipeline\n",
    "\n",
    "run_pipeline(pipeline_name='test-upsert', execution_name_prefix='test', pipeline_params={})"
   ],
   "metadata": {
    "collapsed": false,
    "pycharm": {
     "name": "#%%\n"
    }
   }
  },
  {
   "cell_type": "code",
   "execution_count": 2,
   "outputs": [],
   "source": [
    "from actions import upsert_notebook_pipeline\n",
    "#\n",
    "upsert_notebook_pipeline(pipeline_name='test-upsert', notebook_path='/Users/knikitiuk/workspace/mlops-utilities/mlops_utilities/processing_code/', config_type='')"
   ],
   "metadata": {
    "collapsed": false,
    "pycharm": {
     "name": "#%%\n"
    }
   }
  },
  {
   "cell_type": "code",
   "execution_count": 4,
   "outputs": [],
   "source": [
    "pipeline_role = 'arn:aws:iam::311638508164:role/AmazonSageMaker-ExecutionRole'"
   ],
   "metadata": {
    "collapsed": false,
    "pycharm": {
     "name": "#%%\n"
    }
   }
  },
  {
   "cell_type": "code",
   "execution_count": 9,
   "outputs": [],
   "source": [
    "from omegaconf import OmegaConf\n",
    "\n",
    "default_conf_path = '/Users/knikitiuk/workspace/mlops-utilities/mlops_utilities/processing_code/training_pipeline.defaults.yml'\n",
    "default_conf = OmegaConf.load(default_conf_path)\n",
    "# arg_conf = OmegaConf.create({'pipeline': {'role': pipeline_role}})\n",
    "# override_arg_conf = OmegaConf.from_dotlist(args)\n",
    "# return OmegaConf.merge(default_conf, arg_conf, override_arg_conf)"
   ],
   "metadata": {
    "collapsed": false,
    "pycharm": {
     "name": "#%%\n"
    }
   }
  },
  {
   "cell_type": "code",
   "execution_count": 10,
   "outputs": [
    {
     "data": {
      "text/plain": "{'pipeline': {'default_bucket': '???', 'role': '???', 'cache_config': {'enable_caching': True, 'expire_after': 'p1d'}, 'model_package_group_name': '???'}, 'featurizing': {'instance_count': 1, 'instance_type': 'ml.t3.medium', 'role': '${pipeline.role}'}, 'training': {'instance_count': 1, 'instance_type': 'ml.m5.large', 'role': '${pipeline.role}'}, 'model': {'instance_count': 1, 'instance_type': 'ml.m5.large', 'role': '${pipeline.role}'}, 'clarify': {'instance_count': 1, 'instance_type': 'ml.m5.large', 'role': '${pipeline.role}'}, 'monitor': {'role': '${pipeline.role}'}}"
     },
     "execution_count": 10,
     "metadata": {},
     "output_type": "execute_result"
    }
   ],
   "source": [
    "default_conf"
   ],
   "metadata": {
    "collapsed": false,
    "pycharm": {
     "name": "#%%\n"
    }
   }
  },
  {
   "cell_type": "code",
   "execution_count": null,
   "outputs": [],
   "source": [],
   "metadata": {
    "collapsed": false,
    "pycharm": {
     "name": "#%%\n"
    }
   }
  }
 ],
 "metadata": {
  "kernelspec": {
   "display_name": "Python 3",
   "language": "python",
   "name": "python3"
  },
  "language_info": {
   "codemirror_mode": {
    "name": "ipython",
    "version": 2
   },
   "file_extension": ".py",
   "mimetype": "text/x-python",
   "name": "python",
   "nbconvert_exporter": "python",
   "pygments_lexer": "ipython2",
   "version": "2.7.6"
  }
 },
 "nbformat": 4,
 "nbformat_minor": 0
}