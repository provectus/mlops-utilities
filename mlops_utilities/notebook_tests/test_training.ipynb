{
 "cells": [
  {
   "cell_type": "code",
   "execution_count": 1,
   "outputs": [],
   "source": [
    "from sagemaker.workflow.steps import TrainingStep\n",
    "from sagemaker.workflow.pipeline import Pipeline\n",
    "from sagemaker import Session, image_uris\n"
   ],
   "metadata": {
    "collapsed": false,
    "pycharm": {
     "name": "#%%\n"
    }
   }
  },
  {
   "cell_type": "code",
   "execution_count": 2,
   "outputs": [],
   "source": [
    "PROCESSING_CONTAINER_DIR = \"/opt/ml/processing\"\n",
    "PREPROCESSING_COMPONENT_SOURCE_DIR = \"/Users/knikitiuk/workspace/mlops-utilities/mlops_utilities/processing_code\""
   ],
   "metadata": {
    "collapsed": false,
    "pycharm": {
     "name": "#%%\n"
    }
   }
  },
  {
   "cell_type": "code",
   "execution_count": 3,
   "outputs": [],
   "source": [
    "sm_session = Session(default_bucket='kris-mlops-utilities-test')\n"
   ],
   "metadata": {
    "collapsed": false,
    "pycharm": {
     "name": "#%%\n"
    }
   }
  },
  {
   "cell_type": "code",
   "execution_count": 4,
   "outputs": [],
   "source": [
    "image_uri = image_uris.retrieve(\n",
    "        framework=\"xgboost\",\n",
    "        region=\"us-east-1\",\n",
    "        version=\"1.0-1\",\n",
    "        py_version=\"py3\",\n",
    "        instance_type=\"ml.m5.large\",\n",
    "    )"
   ],
   "metadata": {
    "collapsed": false,
    "pycharm": {
     "name": "#%%\n"
    }
   }
  },
  {
   "cell_type": "code",
   "execution_count": 5,
   "outputs": [],
   "source": [
    "from sagemaker.estimator import Estimator\n",
    "\n",
    "xgb_train = Estimator(\n",
    "    image_uri=image_uri,\n",
    "    instance_type=\"ml.m5.large\",\n",
    "    instance_count=1,\n",
    "    base_job_name=f\"notebook-train\",\n",
    "    sagemaker_session=sm_session,\n",
    "    role=\"arn:aws:iam::311638508164:role/AmazonSageMaker-ExecutionRole\",\n",
    ")\n",
    "\n",
    "xgb_train.set_hyperparameters(\n",
    "    objective=\"reg:linear\",\n",
    "    num_round=50,\n",
    "    max_depth=5,\n",
    "    eta=0.2,\n",
    "    gamma=4,\n",
    "    min_child_weight=6,\n",
    "    subsample=0.7,\n",
    "    silent=0,\n",
    ")"
   ],
   "metadata": {
    "collapsed": false,
    "pycharm": {
     "name": "#%%\n"
    }
   }
  },
  {
   "cell_type": "code",
   "execution_count": 6,
   "outputs": [],
   "source": [
    "from sagemaker import TrainingInput\n",
    "\n",
    "notebook_training = TrainingStep(\n",
    "        name=\"TrainModel\",\n",
    "        estimator=xgb_train,\n",
    "        inputs={\n",
    "            \"train\": TrainingInput(\n",
    "                s3_data=\"s3://kris-mlops-utilities-test/abalone_data/train\",\n",
    "                content_type=\"text/csv\",\n",
    "            ),\n",
    "            \"validation\": TrainingInput(\n",
    "                s3_data=\"s3://kris-mlops-utilities-test/abalone_data/test\",\n",
    "                content_type=\"text/csv\",\n",
    "            ),\n",
    "        },\n",
    ")"
   ],
   "metadata": {
    "collapsed": false,
    "pycharm": {
     "name": "#%%\n"
    }
   }
  },
  {
   "cell_type": "code",
   "execution_count": 7,
   "outputs": [],
   "source": [
    "\n",
    "pipeline = Pipeline(\n",
    "    name='training-notebook-pipeline',\n",
    "    parameters=[],\n",
    "    steps=[\n",
    "        notebook_training\n",
    "    ],\n",
    "    sagemaker_session=sm_session,\n",
    ")\n"
   ],
   "metadata": {
    "collapsed": false,
    "pycharm": {
     "name": "#%%\n"
    }
   }
  },
  {
   "cell_type": "code",
   "execution_count": 8,
   "outputs": [
    {
     "data": {
      "text/plain": "{'PipelineArn': 'arn:aws:sagemaker:us-east-1:311638508164:pipeline/training-notebook-pipeline',\n 'ResponseMetadata': {'RequestId': 'd9406cb9-7302-4a2a-9748-f4fac5ae6845',\n  'HTTPStatusCode': 200,\n  'HTTPHeaders': {'x-amzn-requestid': 'd9406cb9-7302-4a2a-9748-f4fac5ae6845',\n   'content-type': 'application/x-amz-json-1.1',\n   'content-length': '94',\n   'date': 'Fri, 10 Feb 2023 14:01:39 GMT'},\n  'RetryAttempts': 0}}"
     },
     "execution_count": 8,
     "metadata": {},
     "output_type": "execute_result"
    }
   ],
   "source": [
    "pipeline.upsert(role_arn='arn:aws:iam::311638508164:role/AmazonSageMaker-ExecutionRole')"
   ],
   "metadata": {
    "collapsed": false,
    "pycharm": {
     "name": "#%%\n"
    }
   }
  },
  {
   "cell_type": "code",
   "execution_count": 9,
   "outputs": [
    {
     "data": {
      "text/plain": "{'PipelineExecutionArn': 'arn:aws:sagemaker:us-east-1:311638508164:pipeline/training-notebook-pipeline/execution/kd97j0rnhzol',\n 'ResponseMetadata': {'RequestId': '49506d08-3b16-4e48-b827-868fe66467d5',\n  'HTTPStatusCode': 200,\n  'HTTPHeaders': {'x-amzn-requestid': '49506d08-3b16-4e48-b827-868fe66467d5',\n   'content-type': 'application/x-amz-json-1.1',\n   'content-length': '126',\n   'date': 'Fri, 10 Feb 2023 14:01:44 GMT'},\n  'RetryAttempts': 0}}"
     },
     "execution_count": 9,
     "metadata": {},
     "output_type": "execute_result"
    }
   ],
   "source": [
    "from actions import run_pipeline\n",
    "\n",
    "run_pipeline(pipeline_name='training-notebook-pipeline', execution_name_prefix='train', pipeline_params={})"
   ],
   "metadata": {
    "collapsed": false,
    "pycharm": {
     "name": "#%%\n"
    }
   }
  },
  {
   "cell_type": "code",
   "execution_count": 6,
   "outputs": [
    {
     "ename": "ValueError",
     "evalue": "Either step_args or estimator need to be given.",
     "output_type": "error",
     "traceback": [
      "\u001B[0;31m---------------------------------------------------------------------------\u001B[0m",
      "\u001B[0;31mValueError\u001B[0m                                Traceback (most recent call last)",
      "Cell \u001B[0;32mIn [6], line 2\u001B[0m\n\u001B[1;32m      1\u001B[0m \u001B[38;5;28;01mfrom\u001B[39;00m \u001B[38;5;21;01mactions\u001B[39;00m \u001B[38;5;28;01mimport\u001B[39;00m upsert_notebook_pipeline\n\u001B[0;32m----> 2\u001B[0m \u001B[43mupsert_notebook_pipeline\u001B[49m\u001B[43m(\u001B[49m\u001B[43mpipeline_name\u001B[49m\u001B[38;5;241;43m=\u001B[39;49m\u001B[38;5;124;43m'\u001B[39;49m\u001B[38;5;124;43mtest-upsert\u001B[39;49m\u001B[38;5;124;43m'\u001B[39;49m\u001B[43m,\u001B[49m\u001B[43m \u001B[49m\u001B[43mstep_name\u001B[49m\u001B[38;5;241;43m=\u001B[39;49m\u001B[38;5;124;43m'\u001B[39;49m\u001B[38;5;124;43mtraining_step\u001B[39;49m\u001B[38;5;124;43m'\u001B[39;49m\u001B[43m,\u001B[49m\u001B[43m \u001B[49m\u001B[43mnotebook_path\u001B[49m\u001B[38;5;241;43m=\u001B[39;49m\u001B[38;5;124;43m'\u001B[39;49m\u001B[38;5;124;43m/Users/knikitiuk/workspace/mlops-utilities/mlops_utilities/processing_code/\u001B[39;49m\u001B[38;5;124;43m'\u001B[39;49m\u001B[43m,\u001B[49m\u001B[43m \u001B[49m\u001B[43mconfig_type\u001B[49m\u001B[38;5;241;43m=\u001B[39;49m\u001B[38;5;124;43m'\u001B[39;49m\u001B[38;5;124;43m'\u001B[39;49m\u001B[43m,\u001B[49m\u001B[43m \u001B[49m\u001B[43mimage_uri\u001B[49m\u001B[38;5;241;43m=\u001B[39;49m\u001B[43mimage_uri\u001B[49m\u001B[43m)\u001B[49m\n",
      "File \u001B[0;32m~/workspace/mlops-utilities/mlops_utilities/actions.py:112\u001B[0m, in \u001B[0;36mupsert_notebook_pipeline\u001B[0;34m(pipeline_name, step_name, notebook_path, config_type, pipeline_tags, image_uri, is_training, dryrun)\u001B[0m\n\u001B[1;32m    105\u001B[0m \u001B[38;5;66;03m# processing_step = notebook_helper.create_processor_step(processing_step_name=step_name,\u001B[39;00m\n\u001B[1;32m    106\u001B[0m \u001B[38;5;66;03m#                                                         sm_session=sm_session,\u001B[39;00m\n\u001B[1;32m    107\u001B[0m \u001B[38;5;66;03m#                                                         notebook_path=notebook_path)\u001B[39;00m\n\u001B[1;32m    109\u001B[0m training_estimator \u001B[38;5;241m=\u001B[39m notebook_helper\u001B[38;5;241m.\u001B[39mcreate_estimator(sm_session\u001B[38;5;241m=\u001B[39msm_session,\n\u001B[1;32m    110\u001B[0m                                                       image_uri\u001B[38;5;241m=\u001B[39mimage_uri)\n\u001B[0;32m--> 112\u001B[0m training_step \u001B[38;5;241m=\u001B[39m \u001B[43mnotebook_helper\u001B[49m\u001B[38;5;241;43m.\u001B[39;49m\u001B[43mcreate_training_step\u001B[49m\u001B[43m(\u001B[49m\u001B[43mestimator\u001B[49m\u001B[38;5;241;43m=\u001B[39;49m\u001B[43mtraining_estimator\u001B[49m\u001B[43m,\u001B[49m\n\u001B[1;32m    113\u001B[0m \u001B[43m                                                     \u001B[49m\u001B[43minput_data_uri\u001B[49m\u001B[38;5;241;43m=\u001B[39;49m\u001B[38;5;124;43mf\u001B[39;49m\u001B[38;5;124;43m'\u001B[39;49m\u001B[38;5;124;43ms3://\u001B[39;49m\u001B[38;5;132;43;01m{\u001B[39;49;00m\u001B[43msm_session\u001B[49m\u001B[38;5;241;43m.\u001B[39;49m\u001B[43mdefault_bucket\u001B[49m\u001B[38;5;132;43;01m}\u001B[39;49;00m\u001B[38;5;124;43m/abalone_data/train\u001B[39;49m\u001B[38;5;124;43m'\u001B[39;49m\u001B[43m,\u001B[49m\n\u001B[1;32m    114\u001B[0m \u001B[43m                                                     \u001B[49m\u001B[43mvalidation_data_uri\u001B[49m\u001B[38;5;241;43m=\u001B[39;49m\u001B[38;5;124;43mf\u001B[39;49m\u001B[38;5;124;43m'\u001B[39;49m\u001B[38;5;124;43ms3://\u001B[39;49m\u001B[38;5;132;43;01m{\u001B[39;49;00m\u001B[43msm_session\u001B[49m\u001B[38;5;241;43m.\u001B[39;49m\u001B[43mdefault_bucket\u001B[49m\u001B[38;5;132;43;01m}\u001B[39;49;00m\u001B[38;5;124;43m/abalone_data/test\u001B[39;49m\u001B[38;5;124;43m'\u001B[39;49m\u001B[43m)\u001B[49m\n\u001B[1;32m    116\u001B[0m pipeline \u001B[38;5;241m=\u001B[39m notebook_helper\u001B[38;5;241m.\u001B[39mcreate_pipeline(pipeline_name\u001B[38;5;241m=\u001B[39mpipeline_name,\n\u001B[1;32m    117\u001B[0m                                            sm_session\u001B[38;5;241m=\u001B[39msm_session,\n\u001B[1;32m    118\u001B[0m                                            steps\u001B[38;5;241m=\u001B[39m[\n\u001B[0;32m   (...)\u001B[0m\n\u001B[1;32m    121\u001B[0m                                            ],\n\u001B[1;32m    122\u001B[0m                                            pipeline_params\u001B[38;5;241m=\u001B[39m[])\n\u001B[1;32m    124\u001B[0m pipeline\u001B[38;5;241m.\u001B[39mupsert(\u001B[38;5;124m'\u001B[39m\u001B[38;5;124marn:aws:iam::311638508164:role/AmazonSageMaker-ExecutionRole\u001B[39m\u001B[38;5;124m'\u001B[39m, tags\u001B[38;5;241m=\u001B[39mpipeline_tags)\n",
      "File \u001B[0;32m~/workspace/mlops-utilities/mlops_utilities/notebook_helper.py:78\u001B[0m, in \u001B[0;36mcreate_training_step\u001B[0;34m(estimator, input_data_uri, validation_data_uri)\u001B[0m\n\u001B[1;32m     77\u001B[0m \u001B[38;5;28;01mdef\u001B[39;00m \u001B[38;5;21mcreate_training_step\u001B[39m(estimator: Estimator, input_data_uri: \u001B[38;5;28mstr\u001B[39m, validation_data_uri: \u001B[38;5;28mstr\u001B[39m):\n\u001B[0;32m---> 78\u001B[0m     \u001B[38;5;28;01mreturn\u001B[39;00m \u001B[43mTrainingStep\u001B[49m\u001B[43m(\u001B[49m\n\u001B[1;32m     79\u001B[0m \u001B[43m        \u001B[49m\u001B[43mname\u001B[49m\u001B[38;5;241;43m=\u001B[39;49m\u001B[38;5;124;43m\"\u001B[39;49m\u001B[38;5;124;43mTrainModel\u001B[39;49m\u001B[38;5;124;43m\"\u001B[39;49m\u001B[43m,\u001B[49m\n\u001B[1;32m     80\u001B[0m \u001B[43m        \u001B[49m\u001B[43mestimator\u001B[49m\u001B[38;5;241;43m=\u001B[39;49m\u001B[43mestimator\u001B[49m\u001B[43m,\u001B[49m\n\u001B[1;32m     81\u001B[0m \u001B[43m        \u001B[49m\u001B[43minputs\u001B[49m\u001B[38;5;241;43m=\u001B[39;49m\u001B[43m{\u001B[49m\n\u001B[1;32m     82\u001B[0m \u001B[43m            \u001B[49m\u001B[38;5;124;43m\"\u001B[39;49m\u001B[38;5;124;43mtrain\u001B[39;49m\u001B[38;5;124;43m\"\u001B[39;49m\u001B[43m:\u001B[49m\u001B[43m \u001B[49m\u001B[43mTrainingInput\u001B[49m\u001B[43m(\u001B[49m\n\u001B[1;32m     83\u001B[0m \u001B[43m                \u001B[49m\u001B[43ms3_data\u001B[49m\u001B[38;5;241;43m=\u001B[39;49m\u001B[43minput_data_uri\u001B[49m\u001B[43m,\u001B[49m\n\u001B[1;32m     84\u001B[0m \u001B[43m                \u001B[49m\u001B[43mcontent_type\u001B[49m\u001B[38;5;241;43m=\u001B[39;49m\u001B[38;5;124;43m\"\u001B[39;49m\u001B[38;5;124;43mtext/csv\u001B[39;49m\u001B[38;5;124;43m\"\u001B[39;49m\u001B[43m,\u001B[49m\n\u001B[1;32m     85\u001B[0m \u001B[43m            \u001B[49m\u001B[43m)\u001B[49m\u001B[43m,\u001B[49m\n\u001B[1;32m     86\u001B[0m \u001B[43m            \u001B[49m\u001B[38;5;124;43m\"\u001B[39;49m\u001B[38;5;124;43mvalidation\u001B[39;49m\u001B[38;5;124;43m\"\u001B[39;49m\u001B[43m:\u001B[49m\u001B[43m \u001B[49m\u001B[43mTrainingInput\u001B[49m\u001B[43m(\u001B[49m\n\u001B[1;32m     87\u001B[0m \u001B[43m                \u001B[49m\u001B[43ms3_data\u001B[49m\u001B[38;5;241;43m=\u001B[39;49m\u001B[43mvalidation_data_uri\u001B[49m\u001B[43m,\u001B[49m\n\u001B[1;32m     88\u001B[0m \u001B[43m                \u001B[49m\u001B[43mcontent_type\u001B[49m\u001B[38;5;241;43m=\u001B[39;49m\u001B[38;5;124;43m\"\u001B[39;49m\u001B[38;5;124;43mtext/csv\u001B[39;49m\u001B[38;5;124;43m\"\u001B[39;49m\u001B[43m,\u001B[49m\n\u001B[1;32m     89\u001B[0m \u001B[43m            \u001B[49m\u001B[43m)\u001B[49m\u001B[43m,\u001B[49m\n\u001B[1;32m     90\u001B[0m \u001B[43m        \u001B[49m\u001B[43m}\u001B[49m\u001B[43m,\u001B[49m\n\u001B[1;32m     91\u001B[0m \u001B[43m    \u001B[49m\u001B[43m)\u001B[49m\n",
      "File \u001B[0;32m~/workspace/mlops-utilities/venv/lib/python3.8/site-packages/sagemaker/workflow/steps.py:415\u001B[0m, in \u001B[0;36mTrainingStep.__init__\u001B[0;34m(self, name, step_args, estimator, display_name, description, inputs, cache_config, depends_on, retry_policies)\u001B[0m\n\u001B[1;32m    410\u001B[0m \u001B[38;5;28msuper\u001B[39m(TrainingStep, \u001B[38;5;28mself\u001B[39m)\u001B[38;5;241m.\u001B[39m\u001B[38;5;21m__init__\u001B[39m(\n\u001B[1;32m    411\u001B[0m     name, StepTypeEnum\u001B[38;5;241m.\u001B[39mTRAINING, display_name, description, depends_on, retry_policies\n\u001B[1;32m    412\u001B[0m )\n\u001B[1;32m    414\u001B[0m \u001B[38;5;28;01mif\u001B[39;00m \u001B[38;5;129;01mnot\u001B[39;00m (step_args \u001B[38;5;129;01mis\u001B[39;00m \u001B[38;5;129;01mnot\u001B[39;00m \u001B[38;5;28;01mNone\u001B[39;00m) \u001B[38;5;241m^\u001B[39m (estimator \u001B[38;5;129;01mis\u001B[39;00m \u001B[38;5;129;01mnot\u001B[39;00m \u001B[38;5;28;01mNone\u001B[39;00m):\n\u001B[0;32m--> 415\u001B[0m     \u001B[38;5;28;01mraise\u001B[39;00m \u001B[38;5;167;01mValueError\u001B[39;00m(\u001B[38;5;124m\"\u001B[39m\u001B[38;5;124mEither step_args or estimator need to be given.\u001B[39m\u001B[38;5;124m\"\u001B[39m)\n\u001B[1;32m    417\u001B[0m \u001B[38;5;28;01mif\u001B[39;00m step_args:\n\u001B[1;32m    418\u001B[0m     \u001B[38;5;28;01mfrom\u001B[39;00m \u001B[38;5;21;01msagemaker\u001B[39;00m\u001B[38;5;21;01m.\u001B[39;00m\u001B[38;5;21;01mworkflow\u001B[39;00m\u001B[38;5;21;01m.\u001B[39;00m\u001B[38;5;21;01mutilities\u001B[39;00m \u001B[38;5;28;01mimport\u001B[39;00m validate_step_args_input\n",
      "\u001B[0;31mValueError\u001B[0m: Either step_args or estimator need to be given."
     ]
    }
   ],
   "source": [
    "from actions import upsert_notebook_pipeline\n",
    "upsert_notebook_pipeline(pipeline_name='test-upsert', step_name='training_step', notebook_path='/Users/knikitiuk/workspace/mlops-utilities/mlops_utilities/processing_code/', config_type='', image_uri=image_uri)"
   ],
   "metadata": {
    "collapsed": false,
    "pycharm": {
     "name": "#%%\n"
    }
   }
  },
  {
   "cell_type": "code",
   "execution_count": null,
   "outputs": [],
   "source": [
    "# pipeline_name: str,\n",
    "#         step_name: str,\n",
    "#         notebook_path: str,\n",
    "#         config_type: str,\n",
    "#         pipeline_tags: Optional[Dict[str, str]] = None,\n",
    "#         image_uri: Optional[str] = None,\n",
    "#         is_training: bool = False,\n",
    "#         dryrun: bool = False,"
   ],
   "metadata": {
    "collapsed": false,
    "pycharm": {
     "name": "#%%\n"
    }
   }
  },
  {
   "cell_type": "code",
   "execution_count": 8,
   "outputs": [],
   "source": [
    "from actions import upsert_notebook_pipeline\n",
    "upsert_notebook_pipeline(pipeline_name='test-upsert', notebook_path='/Users/knikitiuk/workspace/mlops-utilities/mlops_utilities/processing_code/', config_type='', image_uri=image_uri)"
   ],
   "metadata": {
    "collapsed": false,
    "pycharm": {
     "name": "#%%\n"
    }
   }
  },
  {
   "cell_type": "code",
   "execution_count": 9,
   "outputs": [
    {
     "data": {
      "text/plain": "{'PipelineExecutionArn': 'arn:aws:sagemaker:us-east-1:311638508164:pipeline/test-upsert/execution/nqid8tg82rhm',\n 'ResponseMetadata': {'RequestId': 'dc07b084-26e4-4917-ab4d-62ed4bf76ae6',\n  'HTTPStatusCode': 200,\n  'HTTPHeaders': {'x-amzn-requestid': 'dc07b084-26e4-4917-ab4d-62ed4bf76ae6',\n   'content-type': 'application/x-amz-json-1.1',\n   'content-length': '111',\n   'date': 'Mon, 13 Feb 2023 12:31:30 GMT'},\n  'RetryAttempts': 0}}"
     },
     "execution_count": 9,
     "metadata": {},
     "output_type": "execute_result"
    }
   ],
   "source": [
    "from actions import run_pipeline\n",
    "\n",
    "run_pipeline(pipeline_name='test-upsert', execution_name_prefix='test', pipeline_params={})"
   ],
   "metadata": {
    "collapsed": false,
    "pycharm": {
     "name": "#%%\n"
    }
   }
  },
  {
   "cell_type": "code",
   "execution_count": null,
   "outputs": [],
   "source": [
    "# sm_session: Session, image_uri, role: str, nb_config_path: str, hyperparams_file: str"
   ],
   "metadata": {
    "collapsed": false,
    "pycharm": {
     "name": "#%%\n"
    }
   }
  },
  {
   "cell_type": "code",
   "execution_count": 5,
   "outputs": [
    {
     "data": {
      "text/plain": "<sagemaker.estimator.Estimator at 0x12f601130>"
     },
     "execution_count": 5,
     "metadata": {},
     "output_type": "execute_result"
    }
   ],
   "source": [
    "from notebook_helper import create_estimator\n",
    "\n",
    "create_estimator(sm_session=sm_session, image_uri=image_uri, role=\"arn:aws:iam::311638508164:role/AmazonSageMaker-ExecutionRole\", nb_config_path=\"/Users/knikitiuk/workspace/mlops-utilities/mlops_utilities/processing_code/training_pipeline.defaults.yml\", hyperparams_file=\"/Users/knikitiuk/workspace/mlops-utilities/mlops_utilities/processing_code/hyperparams.json\")"
   ],
   "metadata": {
    "collapsed": false,
    "pycharm": {
     "name": "#%%\n"
    }
   }
  },
  {
   "cell_type": "code",
   "execution_count": null,
   "outputs": [],
   "source": [
    "#pipeline_name: str,\n",
    "        # notebook_path: str,\n",
    "        # role: str,\n",
    "        # nb_yml_config: str,\n",
    "        # pipeline_tags: Optional[Dict[str, str]] = None,\n",
    "        # image_uri: Optional[str] = None,\n",
    "        # dryrun: bool = False,"
   ],
   "metadata": {
    "collapsed": false,
    "pycharm": {
     "name": "#%%\n"
    }
   }
  },
  {
   "cell_type": "code",
   "execution_count": 1,
   "outputs": [],
   "source": [
    "role = \"arn:aws:iam::311638508164:role/AmazonSageMaker-ExecutionRole\"\n",
    "nb_config_path = 'processing_code/training_pipeline.defaults.yml'"
   ],
   "metadata": {
    "collapsed": false,
    "pycharm": {
     "name": "#%%\n"
    }
   }
  },
  {
   "cell_type": "code",
   "execution_count": 2,
   "outputs": [],
   "source": [
    "from actions import upsert_notebook_pipeline\n",
    "\n",
    "upsert_notebook_pipeline(pipeline_name='nb-test',\n",
    "                         notebook_path ='/Users/knikitiuk/workspace/mlops-utilities/mlops_utilities/processing_code',\n",
    "                         role=role,\n",
    "                         nb_yml_config=nb_config_path,\n",
    "                         pipeline_tags=None, image_uri=None, dryrun=False)"
   ],
   "metadata": {
    "collapsed": false,
    "pycharm": {
     "name": "#%%\n"
    }
   }
  },
  {
   "cell_type": "code",
   "execution_count": 8,
   "outputs": [
    {
     "data": {
      "text/plain": "{'pipeline': {'default_bucket': '???', 'role': '???', 'cache_config': {'enable_caching': True, 'expire_after': 'p1d'}, 'model_package_group_name': '???'}, 'processing': {'instance_count': 1, 'instance_type': 'ml.t3.medium', 'role': '${pipeline.role}'}, 'training': {'instance_count': 1, 'instance_type': 'ml.m5.large', 'role': '${pipeline.role}'}}"
     },
     "execution_count": 8,
     "metadata": {},
     "output_type": "execute_result"
    }
   ],
   "source": [
    "from omegaconf import OmegaConf\n",
    "\n",
    "OmegaConf.load('processing_code/training_pipeline.defaults.yml')"
   ],
   "metadata": {
    "collapsed": false,
    "pycharm": {
     "name": "#%%\n"
    }
   }
  },
  {
   "cell_type": "code",
   "execution_count": 7,
   "outputs": [
    {
     "name": "stdout",
     "output_type": "stream",
     "text": [
      "__init__.py         helpers.py          \u001B[34mprocessing_code\u001B[m\u001B[m     test_training.ipynb\r\n",
      "actions.py          notebook_helper.py  test.ipynb\r\n"
     ]
    }
   ],
   "source": [
    "!ls"
   ],
   "metadata": {
    "collapsed": false,
    "pycharm": {
     "name": "#%%\n"
    }
   }
  },
  {
   "cell_type": "code",
   "execution_count": null,
   "outputs": [],
   "source": [],
   "metadata": {
    "collapsed": false,
    "pycharm": {
     "name": "#%%\n"
    }
   }
  }
 ],
 "metadata": {
  "kernelspec": {
   "display_name": "Python 3",
   "language": "python",
   "name": "python3"
  },
  "language_info": {
   "codemirror_mode": {
    "name": "ipython",
    "version": 2
   },
   "file_extension": ".py",
   "mimetype": "text/x-python",
   "name": "python",
   "nbconvert_exporter": "python",
   "pygments_lexer": "ipython2",
   "version": "2.7.6"
  }
 },
 "nbformat": 4,
 "nbformat_minor": 0
}