{
 "cells": [
  {
   "cell_type": "code",
   "execution_count": 13,
   "metadata": {
    "collapsed": false,
    "pycharm": {
     "name": "#%%\n"
    },
    "tags": "parameters"
   },
   "outputs": [],
   "source": [
    "# default values\n",
    "role_param = \"\"\n",
    "output_bucket_path = \"\""
   ]
  },
  {
   "cell_type": "code",
   "execution_count": 44,
   "metadata": {
    "collapsed": false,
    "pycharm": {
     "name": "#%%\n"
    }
   },
   "outputs": [
    {
     "name": "stdout",
     "output_type": "stream",
     "text": [
      "CPU times: user 5.88 ms, sys: 1.38 ms, total: 7.26 ms\n",
      "Wall time: 6.5 ms\n"
     ]
    }
   ],
   "source": [
    "%%time\n",
    "import boto3\n",
    "from time import gmtime, strftime\n",
    "from sagemaker import image_uris\n",
    "processing_job_name = f\"processing-job-{strftime('%Y-%m-%d-%H-%M-%S', gmtime())}\"\n",
    "region = \"us-east-1\"\n",
    "role = role_param\n",
    "client = boto3.client(\"sagemaker\", region_name=region)\n",
    "deploy_amt_model = True\n",
    "output_prefix = \"local-pipeline\"\n"
   ]
  },
  {
   "cell_type": "code",
   "execution_count": 45,
   "outputs": [],
   "source": [
    "image_uri = image_uris.retrieve(\n",
    "        framework=\"xgboost\",\n",
    "        region=\"us-east-1\",\n",
    "        version=\"1.0-1\",\n",
    "        py_version=\"py3\",\n",
    "        instance_type=\"ml.m5.large\",\n",
    ")"
   ],
   "metadata": {
    "collapsed": false,
    "pycharm": {
     "name": "#%%\n"
    }
   }
  },
  {
   "cell_type": "code",
   "execution_count": 46,
   "outputs": [],
   "source": [
    "create_processing_params = {\n",
    "   \"AppSpecification\": {\n",
    "        'ImageUri': image_uri\n",
    "   },\n",
    "   \"ProcessingInputs\": [\n",
    "      {\n",
    "         \"InputName\": \"abalone.train\",\n",
    "         \"S3Input\": {\n",
    "            \"LocalPath\": \"/opt/ml/processing/input\",\n",
    "            \"S3DataDistributionType\": \"FullyReplicated\",\n",
    "            \"S3InputMode\": \"File\",\n",
    "            'S3DataType': \"S3Prefix\",\n",
    "            \"S3Uri\": \"s3://kris-mlops-utilities-test/abalone_data/train\"\n",
    "         }\n",
    "      }\n",
    "   ],\n",
    "   \"StoppingCondition\": {\n",
    "        'MaxRuntimeInSeconds': 123\n",
    "   },\n",
    "   \"ProcessingJobName\": processing_job_name,\n",
    "   \"ProcessingOutputConfig\": {\n",
    "      \"Outputs\": [\n",
    "         {\n",
    "            \"OutputName\": \"preprocessing_output\",\n",
    "            \"S3Output\": {\n",
    "               \"LocalPath\": \"/opt/ml/processing/output\",\n",
    "               \"S3Uri\": f\"s3://{output_bucket_path}/preprocessing\",\n",
    "               \"S3UploadMode\": \"EndOfJob\"\n",
    "            }\n",
    "         }\n",
    "      ]\n",
    "   },\n",
    "   \"ProcessingResources\": {\n",
    "      \"ClusterConfig\": {\n",
    "         \"InstanceCount\": 1,\n",
    "         \"InstanceType\": \"ml.m5.large\",\n",
    "         \"VolumeSizeInGB\": 5\n",
    "      }\n",
    "   },\n",
    "   \"RoleArn\": role,\n",
    "}"
   ],
   "metadata": {
    "collapsed": false,
    "pycharm": {
     "name": "#%%\n"
    }
   }
  },
  {
   "cell_type": "code",
   "execution_count": 48,
   "outputs": [
    {
     "data": {
      "text/plain": "'processing-job-2023-02-07-14-07-04'"
     },
     "execution_count": 48,
     "metadata": {},
     "output_type": "execute_result"
    }
   ],
   "source": [
    "processing_job_name"
   ],
   "metadata": {
    "collapsed": false,
    "pycharm": {
     "name": "#%%\n"
    }
   }
  },
  {
   "cell_type": "code",
   "execution_count": 49,
   "metadata": {
    "collapsed": false,
    "pycharm": {
     "name": "#%%\n"
    }
   },
   "outputs": [],
   "source": [
    "print(f\"Creating a training job with name: {processing_job_name}. It will take between 5 and 6 minutes to complete.\")\n",
    "client.create_processing_job(**create_processing_params)"
   ]
  }
 ],
 "metadata": {
  "kernelspec": {
   "display_name": "Python 3",
   "language": "python",
   "name": "python3"
  },
  "language_info": {
   "codemirror_mode": {
    "name": "ipython",
    "version": 2
   },
   "file_extension": ".py",
   "mimetype": "text/x-python",
   "name": "python",
   "nbconvert_exporter": "python",
   "pygments_lexer": "ipython2",
   "version": "2.7.6"
  }
 },
 "nbformat": 4,
 "nbformat_minor": 0
}