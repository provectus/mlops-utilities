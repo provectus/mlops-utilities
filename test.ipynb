{
 "cells": [
  {
   "cell_type": "markdown",
   "metadata": {
    "collapsed": true,
    "pycharm": {
     "name": "#%% md\n"
    }
   },
   "source": [
    "## Local tests"
   ]
  },
  {
   "cell_type": "markdown",
   "source": [
    "# prerequisites:"
   ],
   "metadata": {
    "collapsed": false,
    "pycharm": {
     "name": "#%% md\n"
    }
   }
  },
  {
   "cell_type": "code",
   "execution_count": 1,
   "outputs": [],
   "source": [
    "import boto3\n",
    "import sagemaker\n",
    "\n",
    "region = boto3.Session().region_name\n",
    "# TODO: insert your role here\n",
    "role = ''\n",
    "default_bucket = sagemaker.session.Session().default_bucket()\n",
    "training_pipeline_name = \"TrainingAbalonePipeline\"\n",
    "source_data_bucket = \"mlops-sagemaker-project\""
   ],
   "metadata": {
    "collapsed": false
   }
  },
  {
   "cell_type": "markdown",
   "source": [
    "## upsert pipeline"
   ],
   "metadata": {
    "collapsed": false,
    "pycharm": {
     "name": "#%% md\n"
    }
   }
  },
  {
   "cell_type": "code",
   "execution_count": 2,
   "outputs": [],
   "source": [
    "# TODO: insert Abalone project root\n",
    "ABALONE_PROJECT_ROOT =''"
   ],
   "metadata": {
    "collapsed": false
   }
  },
  {
   "cell_type": "code",
   "execution_count": 3,
   "outputs": [],
   "source": [
    "import sys\n",
    "sys.path.append(f'{ABALONE_PROJECT_ROOT}/pipelines')"
   ],
   "metadata": {
    "collapsed": false
   }
  },
  {
   "cell_type": "code",
   "execution_count": 4,
   "outputs": [],
   "source": [
    "from mlops_utilities.actions import upsert_pipeline"
   ],
   "metadata": {
    "collapsed": false,
    "pycharm": {
     "name": "#%%\n"
    }
   }
  },
  {
   "cell_type": "code",
   "execution_count": null,
   "outputs": [],
   "source": [
    "upsert_pipeline(pipeline_module='src', pipeline_package='training_pipeline',\n",
    "                pipeline_name='mlops-utilities-upsert', config_type='training_pipeline.defaults', role=role)"
   ],
   "metadata": {
    "collapsed": false,
    "pycharm": {
     "is_executing": true
    }
   }
  },
  {
   "cell_type": "markdown",
   "source": [
    "## run pipeline"
   ],
   "metadata": {
    "collapsed": false,
    "pycharm": {
     "name": "#%% md\n"
    }
   }
  },
  {
   "cell_type": "code",
   "execution_count": 6,
   "outputs": [],
   "source": [
    "from mlops_utilities.actions import run_pipeline"
   ],
   "metadata": {
    "collapsed": false,
    "pycharm": {
     "name": "#%%\n"
    }
   }
  },
  {
   "cell_type": "code",
   "execution_count": null,
   "outputs": [],
   "source": [
    "run_pipeline(\n",
    "    pipeline_name=training_pipeline_name,\n",
    "    execution_name_prefix='latest',\n",
    "    dryrun=False,\n",
    "    pipeline_params={\n",
    "        'RegisterModel': False,\n",
    "        \"InputDataS3Uri\": f\"s3://{source_data_bucket}/abalonedata/data.csv\",\n",
    "        \"InputLabelS3Uri\": f\"s3://{source_data_bucket}/abalonelabels/data.csv\",\n",
    "    }\n",
    ")"
   ],
   "metadata": {
    "collapsed": false,
    "pycharm": {
     "is_executing": true
    }
   }
  },
  {
   "cell_type": "markdown",
   "source": [
    "## create endpoint"
   ],
   "metadata": {
    "collapsed": false,
    "pycharm": {
     "name": "#%% md\n"
    }
   }
  },
  {
   "cell_type": "code",
   "execution_count": 8,
   "outputs": [],
   "source": [
    "boto_sess = boto3.Session()\n",
    "sm = boto_sess.client(\"sagemaker\")\n",
    "sagemaker_session = sagemaker.Session(boto_session=boto_sess)\n",
    "endpoint_name = 'TestEndpoint'\n",
    "\n",
    "instance_type = 'ml.m5.large'\n",
    "instance_count = 1"
   ],
   "metadata": {
    "collapsed": false
   }
  },
  {
   "cell_type": "markdown",
   "source": [
    "1. create model"
   ],
   "metadata": {
    "collapsed": false,
    "pycharm": {
     "name": "#%% md\n"
    }
   }
  },
  {
   "cell_type": "code",
   "execution_count": 9,
   "outputs": [],
   "source": [
    "aws_region = 'us-east-1'\n",
    "sagemaker_client = boto3.client('sagemaker', region_name=aws_region)"
   ],
   "metadata": {
    "collapsed": false
   }
  },
  {
   "cell_type": "code",
   "execution_count": 10,
   "outputs": [],
   "source": [
    "import datetime\n",
    "import os\n",
    "from typing import Any, Dict, List\n",
    "\n",
    "from mlops_utilities import helpers\n",
    "\n",
    "\n",
    "def _get_sagemaker_project_tags() -> List[Dict[str, str]]:\n",
    "    tags = []\n",
    "\n",
    "    project_id = os.getenv('SAGEMAKER_PROJECT_ID')\n",
    "    if project_id is not None:\n",
    "        tags.append({'Key': 'sagemaker:project-id', 'Value': project_id})\n",
    "\n",
    "    project_name = os.getenv('SAGEMAKER_PROJECT_NAME')\n",
    "    if project_name is not None:\n",
    "        tags.append({'Key': 'sagemaker:project-name', 'Value': project_name})\n",
    "\n",
    "    return tags\n",
    "\n",
    "\n",
    "current_datetime_utc_str = helpers.get_datetime_str(datetime.datetime.now(datetime.timezone.utc))\n",
    "sagemaker_project_tags = _get_sagemaker_project_tags()"
   ],
   "metadata": {
    "collapsed": false
   }
  },
  {
   "cell_type": "code",
   "execution_count": null,
   "outputs": [],
   "source": [
    "model_package_arn = 'arn:aws:sagemaker:us-east-1:311638508164:model-package/test-sokolov/1'\n",
    "model_arn = helpers.create_model_from_model_package(\n",
    "    sagemaker_client=sagemaker_client,\n",
    "    model_name='model',\n",
    "    model_package_arn=model_package_arn,\n",
    "    execution_role=role,\n",
    "    tags=sagemaker_project_tags,\n",
    ")\n",
    "print(f'Model {model_arn} has been created successfully', model_arn)"
   ],
   "metadata": {
    "collapsed": false,
    "pycharm": {
     "is_executing": true
    }
   }
  },
  {
   "cell_type": "markdown",
   "source": [
    "2. create endpoint config"
   ],
   "metadata": {
    "collapsed": false,
    "pycharm": {
     "name": "#%% md\n"
    }
   }
  },
  {
   "cell_type": "code",
   "execution_count": 12,
   "outputs": [],
   "source": [
    "s3_data_capture_output_prefix = None\n",
    "endpoint_config_name = f'{endpoint_name}-config-{current_datetime_utc_str}'\n",
    "data_capture_config = helpers._generate_data_capture_config(\n",
    "    s3_data_capture_output_prefix) if s3_data_capture_output_prefix is not None else None"
   ],
   "metadata": {
    "collapsed": false
   }
  },
  {
   "cell_type": "code",
   "execution_count": null,
   "outputs": [],
   "source": [
    "from mlops_utilities.actions import create_endpoint\n",
    "\n",
    "boto_sess = boto3.Session()\n",
    "sm = boto_sess.client(\"sagemaker\")\n",
    "sagemaker_session = sagemaker.Session(boto_session=boto_sess)\n",
    "\n",
    "create_endpoint(model_package_arn, sagemaker_session,\n",
    "                instance_count, instance_type, endpoint_name,\n",
    "                data_capture_config, role=role)"
   ],
   "metadata": {
    "collapsed": false,
    "pycharm": {
     "is_executing": true
    }
   }
  },
  {
   "cell_type": "markdown",
   "source": [
    "## update endpoint"
   ],
   "metadata": {
    "collapsed": false,
    "pycharm": {
     "name": "#%% md\n"
    }
   }
  },
  {
   "cell_type": "code",
   "execution_count": 14,
   "outputs": [],
   "source": [
    "from mlops_utilities.actions import update_endpoint"
   ],
   "metadata": {
    "collapsed": false,
    "pycharm": {
     "name": "#%%\n"
    }
   }
  },
  {
   "cell_type": "code",
   "execution_count": 15,
   "outputs": [],
   "source": [
    "evaluate_s3 = 's3://sagemaker-mlops-p-sq33brxtdjtx/EvaluateAbaloneModel-f4800dc7aed96399c5afac406ea9afe0/output/evaluation/evaluation.json'\n",
    "metric_path = 'regression_metrics/mse/value'"
   ],
   "metadata": {
    "collapsed": false,
    "pycharm": {
     "name": "#%%\n"
    }
   }
  },
  {
   "cell_type": "code",
   "execution_count": null,
   "outputs": [],
   "source": [
    "boto_sess = boto3.Session()\n",
    "sm = boto_sess.client(\"sagemaker\")\n",
    "sm.describe_endpoint_config(EndpointConfigName=endpoint_name)"
   ],
   "metadata": {
    "collapsed": false,
    "pycharm": {
     "is_executing": true
    }
   }
  },
  {
   "cell_type": "code",
   "execution_count": null,
   "outputs": [],
   "source": [
    "update_endpoint(sagemaker_client=sm, endpoint_name=endpoint_name, data_capture_config=data_capture_config,\n",
    "                model_statistics_s3_uri=evaluate_s3, metric=metric_path)"
   ],
   "metadata": {
    "collapsed": false,
    "pycharm": {
     "is_executing": true
    }
   }
  },
  {
   "cell_type": "markdown",
   "source": [
    "## deploy model"
   ],
   "metadata": {
    "collapsed": false,
    "pycharm": {
     "name": "#%% md\n"
    }
   }
  },
  {
   "cell_type": "code",
   "execution_count": 19,
   "outputs": [],
   "source": [
    "from mlops_utilities.actions import deploy_model"
   ],
   "metadata": {
    "collapsed": false,
    "pycharm": {
     "name": "#%%\n"
    }
   }
  },
  {
   "cell_type": "code",
   "execution_count": 20,
   "outputs": [],
   "source": [
    "boto_sess = boto3.Session()\n",
    "sm = boto_sess.client(\"sagemaker\")\n",
    "model_package_group_name = 'test-Sokolov'\n",
    "data_capture_s3_uri = 's3://kris-mlops-utilities-test/'"
   ],
   "metadata": {
    "collapsed": false,
    "pycharm": {
     "name": "#%%\n"
    }
   }
  },
  {
   "cell_type": "code",
   "execution_count": null,
   "outputs": [],
   "source": [
    "sm.list_model_packages(\n",
    "    ModelApprovalStatus='Approved',\n",
    "    ModelPackageGroupName=model_package_group_name,\n",
    "    SortBy='CreationTime',\n",
    "    SortOrder='Descending',\n",
    "    MaxResults=1,\n",
    ")"
   ],
   "metadata": {
    "collapsed": false,
    "pycharm": {
     "is_executing": true
    }
   }
  },
  {
   "cell_type": "code",
   "execution_count": null,
   "outputs": [],
   "source": [
    "deploy_model(sagemaker_session, model_package_group_name, instance_type, instance_count, endpoint_name, data_capture_s3_uri, role=role)"
   ],
   "metadata": {
    "collapsed": false,
    "pycharm": {
     "is_executing": true
    }
   }
  }
 ],
 "metadata": {
  "kernelspec": {
   "display_name": "Python 3",
   "language": "python",
   "name": "python3"
  },
  "language_info": {
   "codemirror_mode": {
    "name": "ipython",
    "version": 2
   },
   "file_extension": ".py",
   "mimetype": "text/x-python",
   "name": "python",
   "nbconvert_exporter": "python",
   "pygments_lexer": "ipython2",
   "version": "2.7.6"
  }
 },
 "nbformat": 4,
 "nbformat_minor": 0
}
