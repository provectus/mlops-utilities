{
 "cells": [
  {
   "cell_type": "markdown",
   "metadata": {
    "collapsed": true,
    "pycharm": {
     "name": "#%% md\n"
    }
   },
   "source": [
    "## Local tests"
   ]
  },
  {
   "cell_type": "markdown",
   "source": [
    "# prerequisites:"
   ],
   "metadata": {
    "collapsed": false,
    "pycharm": {
     "name": "#%% md\n"
    }
   }
  },
  {
   "cell_type": "code",
   "execution_count": 1,
   "outputs": [],
   "source": [
    "import boto3\n",
    "import sagemaker\n",
    "\n",
    "region = boto3.Session().region_name\n",
    "role = 'arn:aws:iam::245582572290:role/service-role/AmazonSageMaker-ExecutionRole-20211021T134979'\n",
    "default_bucket = sagemaker.session.Session().default_bucket()\n",
    "training_pipeline_name = \"TrainingAbalonePipeline\"\n",
    "source_data_bucket = \"kris-predictive-maintenance-test\""
   ],
   "metadata": {
    "collapsed": false,
    "pycharm": {
     "name": "#%%\n"
    }
   }
  },
  {
   "cell_type": "markdown",
   "source": [
    "## upsert pipeline"
   ],
   "metadata": {
    "collapsed": false,
    "pycharm": {
     "name": "#%% md\n"
    }
   }
  },
  {
   "cell_type": "code",
   "execution_count": 1,
   "outputs": [],
   "source": [
    "from mlops_utilities.actions import upsert_pipeline"
   ],
   "metadata": {
    "collapsed": false,
    "pycharm": {
     "name": "#%%\n"
    }
   }
  },
  {
   "cell_type": "code",
   "execution_count": 2,
   "outputs": [],
   "source": [
    "upsert_pipeline(pipeline_module='pipelines', pipeline_package='training_pipeline', pipeline_name='mlops-utilities-upsert', role = 'arn:aws:iam::245582572290:role/service-role/AmazonSageMaker-ExecutionRole-20211021T134979')"
   ],
   "metadata": {
    "collapsed": false,
    "pycharm": {
     "name": "#%%\n"
    }
   }
  },
  {
   "cell_type": "markdown",
   "source": [
    "## run pipeline"
   ],
   "metadata": {
    "collapsed": false,
    "pycharm": {
     "name": "#%% md\n"
    }
   }
  },
  {
   "cell_type": "code",
   "execution_count": 4,
   "outputs": [],
   "source": [
    "from mlops_utilities.actions import run_pipeline"
   ],
   "metadata": {
    "collapsed": false,
    "pycharm": {
     "name": "#%%\n"
    }
   }
  },
  {
   "cell_type": "code",
   "execution_count": 5,
   "outputs": [
    {
     "data": {
      "text/plain": "{'PipelineExecutionArn': 'arn:aws:sagemaker:us-east-1:245582572290:pipeline/trainingabalonepipeline/execution/hut12fi57sog',\n 'ResponseMetadata': {'RequestId': 'dc4c8916-9d91-455b-9ab4-525110158fa3',\n  'HTTPStatusCode': 200,\n  'HTTPHeaders': {'x-amzn-requestid': 'dc4c8916-9d91-455b-9ab4-525110158fa3',\n   'content-type': 'application/x-amz-json-1.1',\n   'content-length': '123',\n   'date': 'Mon, 24 Oct 2022 15:39:16 GMT'},\n  'RetryAttempts': 0}}"
     },
     "execution_count": 5,
     "metadata": {},
     "output_type": "execute_result"
    }
   ],
   "source": [
    "run_pipeline(\n",
    "    pipeline_name='TrainingAbalonePipeline',\n",
    "    execution_name_prefix='latest',\n",
    "    dryrun=False,\n",
    "    pipe_params={\n",
    "        \"InputDataS3Uri\": f\"s3://{source_data_bucket}/abalonedata/data.csv\",\n",
    "        \"InputLabelS3Uri\": f\"s3://{source_data_bucket}/abalonelabels/data.csv\",\n",
    "    }\n",
    ")"
   ],
   "metadata": {
    "collapsed": false,
    "pycharm": {
     "name": "#%%\n"
    }
   }
  },
  {
   "cell_type": "markdown",
   "source": [
    "## create endpoint"
   ],
   "metadata": {
    "collapsed": false,
    "pycharm": {
     "name": "#%% md\n"
    }
   }
  },
  {
   "cell_type": "code",
   "execution_count": 2,
   "outputs": [],
   "source": [
    "import boto3\n",
    "import sagemaker"
   ],
   "metadata": {
    "collapsed": false,
    "pycharm": {
     "name": "#%%\n"
    }
   }
  },
  {
   "cell_type": "code",
   "execution_count": 3,
   "outputs": [],
   "source": [
    "boto_sess = boto3.Session()\n",
    "sm = boto_sess.client(\"sagemaker\")\n",
    "sagemaker_session = sagemaker.Session(boto_session=boto_sess)\n",
    "# EDU account\n",
    "# execution_role = 'arn:aws:iam::245582572290:role/service-role/AmazonSageMaker-ExecutionRole-20211021T134979'\n",
    "# main account\n",
    "execution_role = 'arn:aws:iam::311638508164:role/AmazonSageMaker-ExecutionRole'\n",
    "endpoint_name = 'TestEndpoint'\n",
    "\n",
    "instance_type = 'ml.m5.large'\n",
    "instance_count = 1"
   ],
   "metadata": {
    "collapsed": false,
    "pycharm": {
     "name": "#%%\n"
    }
   }
  },
  {
   "cell_type": "markdown",
   "source": [
    "1. create model"
   ],
   "metadata": {
    "collapsed": false,
    "pycharm": {
     "name": "#%% md\n"
    }
   }
  },
  {
   "cell_type": "code",
   "execution_count": 4,
   "outputs": [],
   "source": [
    "import boto3\n",
    "\n",
    "aws_region='us-east-1'\n",
    "sagemaker_client = boto3.client('sagemaker', region_name=aws_region)\n",
    "framework= \"sklearn\"\n",
    "version = '1.0-1'\n",
    "s3_bucket = 'kris-mlops-utilities-test'\n",
    "model_url = 's3://sagemaker-mlops-p-8wejpwt16iyw/pipelines-m5dg8xqiu58e-TrainAbaloneModel-62auDXm3wm/output/model.tar.gz'\n",
    "model_name = 'model'\n"
   ],
   "metadata": {
    "collapsed": false,
    "pycharm": {
     "name": "#%%\n"
    }
   }
  },
  {
   "cell_type": "code",
   "execution_count": 5,
   "outputs": [],
   "source": [
    "import datetime\n",
    "import os\n",
    "from typing import Any, Dict, List\n",
    "\n",
    "def _create_model_from_model_package(\n",
    "        model_name: str,\n",
    "        model_package_arn: str,\n",
    "        execution_role: str,\n",
    "        tags: List[Dict[str, str]],\n",
    ") -> str:\n",
    "    response = sagemaker_client.create_model(\n",
    "        ModelName=model_name,\n",
    "        Containers=[{'ModelPackageName': model_package_arn}],\n",
    "        ExecutionRoleArn=execution_role,\n",
    "        Tags=tags,\n",
    "    )\n",
    "    return response['ModelArn']\n",
    "\n",
    "def _get_sagemaker_project_tags() -> List[Dict[str, str]]:\n",
    "    tags = []\n",
    "\n",
    "    project_id = os.getenv('SAGEMAKER_PROJECT_ID')\n",
    "    if project_id is not None:\n",
    "        tags.append({'Key': 'sagemaker:project-id', 'Value': project_id})\n",
    "\n",
    "    project_name = os.getenv('SAGEMAKER_PROJECT_NAME')\n",
    "    if project_name is not None:\n",
    "        tags.append({'Key': 'sagemaker:project-name', 'Value': project_name})\n",
    "\n",
    "    return tags\n",
    "\n",
    "def _generate_datetime_suffix(dt_format: str = '%Y-%m-%d-%H-%M-%S') -> str:\n",
    "    return datetime.datetime.now(datetime.timezone.utc).strftime(dt_format)\n",
    "\n",
    "current_datetime_utc_str = _generate_datetime_suffix()\n",
    "sagemaker_project_tags = _get_sagemaker_project_tags()"
   ],
   "metadata": {
    "collapsed": false,
    "pycharm": {
     "name": "#%%\n"
    }
   }
  },
  {
   "cell_type": "code",
   "execution_count": null,
   "outputs": [],
   "source": [
    "model_package_arn = 'arn:aws:sagemaker:us-east-1:311638508164:model-package/test-sokolov/1'\n",
    "execution_role = 'arn:aws:iam::311638508164:role/AmazonSageMaker-ExecutionRole'\n",
    "model_arn = _create_model_from_model_package(\n",
    "    model_name='model',\n",
    "    model_package_arn=model_package_arn,\n",
    "    execution_role=execution_role,\n",
    "    tags=sagemaker_project_tags,\n",
    ")\n",
    "print('Model \"%s\" has been created successfully', model_arn)\n"
   ],
   "metadata": {
    "collapsed": false,
    "pycharm": {
     "name": "#%%\n",
     "is_executing": true
    }
   }
  },
  {
   "cell_type": "markdown",
   "source": [
    "2. create endpoint config"
   ],
   "metadata": {
    "collapsed": false,
    "pycharm": {
     "name": "#%% md\n"
    }
   }
  },
  {
   "cell_type": "code",
   "execution_count": 6,
   "outputs": [],
   "source": [
    "def _generate_data_capture_config(\n",
    "        s3_destination_prefix: str,\n",
    "        sampling_percentage: int = 100,\n",
    ") -> Dict[str, Any]:\n",
    "    return {\n",
    "        'EnableCapture': True,\n",
    "        'InitialSamplingPercentage': sampling_percentage,\n",
    "        'DestinationS3Uri': s3_destination_prefix,\n",
    "        'CaptureOptions': [{'CaptureMode': 'Input'}, {'CaptureMode': 'Output'}],  # both by default\n",
    "        'CaptureContentTypeHeader': {'CsvContentTypes': ['text/csv']},\n",
    "    }"
   ],
   "metadata": {
    "collapsed": false,
    "pycharm": {
     "name": "#%%\n"
    }
   }
  },
  {
   "cell_type": "code",
   "execution_count": 7,
   "outputs": [],
   "source": [
    "s3_data_capture_output_prefix = None\n",
    "endpoint_config_name = f'{endpoint_name}-config-{current_datetime_utc_str}'\n",
    "data_capture_config = _generate_data_capture_config(s3_data_capture_output_prefix) \\\n",
    "    if s3_data_capture_output_prefix is not None \\\n",
    "    else None"
   ],
   "metadata": {
    "collapsed": false,
    "pycharm": {
     "name": "#%%\n"
    }
   }
  },
  {
   "cell_type": "code",
   "execution_count": 22,
   "outputs": [
    {
     "name": "stdout",
     "output_type": "stream",
     "text": [
      "---------------!"
     ]
    }
   ],
   "source": [
    "from mlops_utilities.actions import create_endpoint\n",
    "import sagemaker\n",
    "\n",
    "boto_sess = boto3.Session()\n",
    "sm = boto_sess.client(\"sagemaker\")\n",
    "sagemaker_session = sagemaker.Session(boto_session=boto_sess)\n",
    "\n",
    "create_endpoint(model_package_arn, sagemaker_session,\n",
    "                instance_count, instance_type, endpoint_name,\n",
    "                data_capture_config)"
   ],
   "metadata": {
    "collapsed": false,
    "pycharm": {
     "name": "#%%\n"
    }
   }
  },
  {
   "cell_type": "markdown",
   "source": [
    "## update endpoint"
   ],
   "metadata": {
    "collapsed": false,
    "pycharm": {
     "name": "#%% md\n"
    }
   }
  },
  {
   "cell_type": "code",
   "execution_count": 8,
   "outputs": [],
   "source": [
    "model_stat_s3 = 's3://sagemaker-mlops-p-sq33brxtdjtx/model-monitor/baselining/baseline-suggestion-job-2022-10-18-15-13-56-519/results/statistics.json'"
   ],
   "metadata": {
    "collapsed": false,
    "pycharm": {
     "name": "#%%\n"
    }
   }
  },
  {
   "cell_type": "code",
   "execution_count": 9,
   "outputs": [
    {
     "data": {
      "text/plain": "{'EndpointConfigName': 'TestEndpoint',\n 'EndpointConfigArn': 'arn:aws:sagemaker:us-east-1:311638508164:endpoint-config/testendpoint',\n 'ProductionVariants': [{'VariantName': 'AllTraffic',\n   'ModelName': '1-2022-10-25-13-33-49-805',\n   'InitialInstanceCount': 1,\n   'InstanceType': 'ml.m5.large',\n   'InitialVariantWeight': 1.0}],\n 'CreationTime': datetime.datetime(2022, 10, 25, 16, 33, 51, 471000, tzinfo=tzlocal()),\n 'ResponseMetadata': {'RequestId': '5997e3aa-cfd8-465f-b2f9-7924a081d1f9',\n  'HTTPStatusCode': 200,\n  'HTTPHeaders': {'x-amzn-requestid': '5997e3aa-cfd8-465f-b2f9-7924a081d1f9',\n   'content-type': 'application/x-amz-json-1.1',\n   'content-length': '334',\n   'date': 'Wed, 26 Oct 2022 12:12:40 GMT'},\n  'RetryAttempts': 0}}"
     },
     "execution_count": 9,
     "metadata": {},
     "output_type": "execute_result"
    }
   ],
   "source": [
    "boto_sess = boto3.Session()\n",
    "sm = boto_sess.client(\"sagemaker\")\n",
    "# sagemaker_session = sagemaker.Session(boto_session=boto_sess)\n",
    "sm.describe_endpoint_config(EndpointConfigName=endpoint_name)"
   ],
   "metadata": {
    "collapsed": false,
    "pycharm": {
     "name": "#%%\n"
    }
   }
  },
  {
   "cell_type": "code",
   "execution_count": 10,
   "outputs": [],
   "source": [
    "from mlops_utilities.actions import update_endpoint"
   ],
   "metadata": {
    "collapsed": false,
    "pycharm": {
     "name": "#%%\n"
    }
   }
  },
  {
   "cell_type": "code",
   "execution_count": 11,
   "outputs": [
    {
     "name": "stdout",
     "output_type": "stream",
     "text": [
      "---------------!"
     ]
    }
   ],
   "source": [
    "update_endpoint(sm=sm, endpoint_name='TestEndpoint', data_capture_config=data_capture_config, model_statistics_s3_uri=model_stat_s3)"
   ],
   "metadata": {
    "collapsed": false,
    "pycharm": {
     "name": "#%%\n"
    }
   }
  },
  {
   "cell_type": "markdown",
   "source": [
    "## deploy model"
   ],
   "metadata": {
    "collapsed": false,
    "pycharm": {
     "name": "#%% md\n"
    }
   }
  },
  {
   "cell_type": "code",
   "execution_count": 8,
   "outputs": [],
   "source": [
    "from mlops_utilities.actions import deploy_model\n",
    "\n",
    "data_capture_s3_uri = 's3://kris-mlops-utilities-test/'"
   ],
   "metadata": {
    "collapsed": false,
    "pycharm": {
     "name": "#%%\n"
    }
   }
  },
  {
   "cell_type": "code",
   "execution_count": 9,
   "outputs": [],
   "source": [
    "boto_sess = boto3.Session()\n",
    "sm = boto_sess.client(\"sagemaker\")\n",
    "model_package_group_name = 'test-Sokolov'"
   ],
   "metadata": {
    "collapsed": false,
    "pycharm": {
     "name": "#%%\n"
    }
   }
  },
  {
   "cell_type": "code",
   "execution_count": 10,
   "outputs": [
    {
     "data": {
      "text/plain": "{'ModelPackageSummaryList': [{'ModelPackageGroupName': 'test-Sokolov',\n   'ModelPackageVersion': 1,\n   'ModelPackageArn': 'arn:aws:sagemaker:us-east-1:311638508164:model-package/test-sokolov/1',\n   'CreationTime': datetime.datetime(2022, 9, 20, 21, 28, 34, 958000, tzinfo=tzlocal()),\n   'ModelPackageStatus': 'Completed',\n   'ModelApprovalStatus': 'Approved'}],\n 'ResponseMetadata': {'RequestId': 'ac709ace-2a28-4ae1-85f0-cf93117d0388',\n  'HTTPStatusCode': 200,\n  'HTTPHeaders': {'x-amzn-requestid': 'ac709ace-2a28-4ae1-85f0-cf93117d0388',\n   'content-type': 'application/x-amz-json-1.1',\n   'content-length': '282',\n   'date': 'Wed, 26 Oct 2022 15:40:00 GMT'},\n  'RetryAttempts': 0}}"
     },
     "execution_count": 10,
     "metadata": {},
     "output_type": "execute_result"
    }
   ],
   "source": [
    "sm.list_model_packages(\n",
    "        ModelApprovalStatus='Approved',\n",
    "        ModelPackageGroupName=model_package_group_name,\n",
    "        SortBy='CreationTime',\n",
    "        SortOrder='Descending',\n",
    "        MaxResults=1,\n",
    "    )"
   ],
   "metadata": {
    "collapsed": false,
    "pycharm": {
     "name": "#%%\n"
    }
   }
  },
  {
   "cell_type": "code",
   "execution_count": null,
   "outputs": [],
   "source": [
    "deploy_model(model_package_group_name, instance_type, instance_count, endpoint_name, data_capture_s3_uri)"
   ],
   "metadata": {
    "collapsed": false,
    "pycharm": {
     "name": "#%%\n",
     "is_executing": true
    }
   }
  }
 ],
 "metadata": {
  "kernelspec": {
   "display_name": "Python 3",
   "language": "python",
   "name": "python3"
  },
  "language_info": {
   "codemirror_mode": {
    "name": "ipython",
    "version": 2
   },
   "file_extension": ".py",
   "mimetype": "text/x-python",
   "name": "python",
   "nbconvert_exporter": "python",
   "pygments_lexer": "ipython2",
   "version": "2.7.6"
  }
 },
 "nbformat": 4,
 "nbformat_minor": 0
}