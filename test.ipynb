{
 "cells": [
  {
   "cell_type": "markdown",
   "metadata": {
    "collapsed": true,
    "pycharm": {
     "name": "#%% md\n"
    }
   },
   "source": [
    "## Local tests"
   ]
  },
  {
   "cell_type": "markdown",
   "source": [
    "# prerequisites:"
   ],
   "metadata": {
    "collapsed": false,
    "pycharm": {
     "name": "#%% md\n"
    }
   }
  },
  {
   "cell_type": "code",
   "execution_count": 3,
   "outputs": [],
   "source": [
    "import boto3\n",
    "import sagemaker\n",
    "\n",
    "region = boto3.Session().region_name\n",
    "role = 'arn:aws:iam::245582572290:role/service-role/AmazonSageMaker-ExecutionRole-20211021T134979'\n",
    "default_bucket = sagemaker.session.Session().default_bucket()\n",
    "training_pipeline_name = \"TrainingAbalonePipeline\"\n",
    "source_data_bucket = \"kris-predictive-maintenance-test\""
   ],
   "metadata": {
    "collapsed": false,
    "pycharm": {
     "name": "#%%\n"
    }
   }
  },
  {
   "cell_type": "markdown",
   "source": [
    "## upsert pipeline"
   ],
   "metadata": {
    "collapsed": false,
    "pycharm": {
     "name": "#%% md\n"
    }
   }
  },
  {
   "cell_type": "code",
   "execution_count": 1,
   "outputs": [],
   "source": [
    "from mlops_utilities.actions import upsert_pipeline"
   ],
   "metadata": {
    "collapsed": false,
    "pycharm": {
     "name": "#%%\n"
    }
   }
  },
  {
   "cell_type": "code",
   "execution_count": 2,
   "outputs": [],
   "source": [
    "upsert_pipeline(pipeline_module='pipelines', pipeline_package='training_pipeline', pipeline_name='mlops-utilities-upsert', role = 'arn:aws:iam::245582572290:role/service-role/AmazonSageMaker-ExecutionRole-20211021T134979')"
   ],
   "metadata": {
    "collapsed": false,
    "pycharm": {
     "name": "#%%\n"
    }
   }
  },
  {
   "cell_type": "markdown",
   "source": [
    "## run pipeline"
   ],
   "metadata": {
    "collapsed": false,
    "pycharm": {
     "name": "#%% md\n"
    }
   }
  },
  {
   "cell_type": "code",
   "execution_count": 4,
   "outputs": [],
   "source": [
    "from mlops_utilities.actions import run_pipeline"
   ],
   "metadata": {
    "collapsed": false,
    "pycharm": {
     "name": "#%%\n"
    }
   }
  },
  {
   "cell_type": "code",
   "execution_count": 5,
   "outputs": [
    {
     "data": {
      "text/plain": "{'PipelineExecutionArn': 'arn:aws:sagemaker:us-east-1:245582572290:pipeline/trainingabalonepipeline/execution/hut12fi57sog',\n 'ResponseMetadata': {'RequestId': 'dc4c8916-9d91-455b-9ab4-525110158fa3',\n  'HTTPStatusCode': 200,\n  'HTTPHeaders': {'x-amzn-requestid': 'dc4c8916-9d91-455b-9ab4-525110158fa3',\n   'content-type': 'application/x-amz-json-1.1',\n   'content-length': '123',\n   'date': 'Mon, 24 Oct 2022 15:39:16 GMT'},\n  'RetryAttempts': 0}}"
     },
     "execution_count": 5,
     "metadata": {},
     "output_type": "execute_result"
    }
   ],
   "source": [
    "run_pipeline(\n",
    "    pipeline_name='TrainingAbalonePipeline',\n",
    "    execution_name_prefix='latest',\n",
    "    dryrun=False,\n",
    "    pipe_params={\n",
    "        \"InputDataS3Uri\": f\"s3://{source_data_bucket}/abalonedata/data.csv\",\n",
    "        \"InputLabelS3Uri\": f\"s3://{source_data_bucket}/abalonelabels/data.csv\",\n",
    "    }\n",
    ")"
   ],
   "metadata": {
    "collapsed": false,
    "pycharm": {
     "name": "#%%\n"
    }
   }
  },
  {
   "cell_type": "code",
   "execution_count": null,
   "outputs": [],
   "source": [],
   "metadata": {
    "collapsed": false,
    "pycharm": {
     "name": "#%%\n"
    }
   }
  }
 ],
 "metadata": {
  "kernelspec": {
   "display_name": "Python 3",
   "language": "python",
   "name": "python3"
  },
  "language_info": {
   "codemirror_mode": {
    "name": "ipython",
    "version": 2
   },
   "file_extension": ".py",
   "mimetype": "text/x-python",
   "name": "python",
   "nbconvert_exporter": "python",
   "pygments_lexer": "ipython2",
   "version": "2.7.6"
  }
 },
 "nbformat": 4,
 "nbformat_minor": 0
}